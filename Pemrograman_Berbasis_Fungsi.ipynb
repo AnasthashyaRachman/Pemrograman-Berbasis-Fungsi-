{
  "nbformat": 4,
  "nbformat_minor": 0,
  "metadata": {
    "colab": {
      "provenance": []
    },
    "kernelspec": {
      "name": "python3",
      "display_name": "Python 3"
    },
    "language_info": {
      "name": "python"
    }
  },
  "cells": [
    {
      "cell_type": "code",
      "execution_count": null,
      "metadata": {
        "colab": {
          "base_uri": "https://localhost:8080/"
        },
        "id": "Q4y7ZvXkqCfO",
        "outputId": "53b27a33-4706-4c37-bd9e-6aa873d9b199"
      },
      "outputs": [
        {
          "output_type": "stream",
          "name": "stdout",
          "text": [
            "Hello World!\n",
            "Hello Again\n",
            "I Like typing this.\n",
            "This is fun.\n",
            "'Yay! Printing.'\n",
            "I'd much rather you 'not'.\n",
            "I \"said\" do not touch this.\n"
          ]
        }
      ],
      "source": [
        "#NAMA  : ANASTHASHYA RACHMAN\n",
        "#NIM   : 121450013\n",
        "#KELAS : RB\n",
        "#MATKUL: PRAKTIKUM ALPRO\n",
        "\n",
        "#A Good First Program\n",
        "\n",
        "print(\"Hello World!\")\n",
        "print(\"Hello Again\")\n",
        "print(\"I Like typing this.\")\n",
        "print(\"This is fun.\")\n",
        "print(\"'Yay! Printing.'\")\n",
        "print(\"I'd much rather you 'not'.\")\n",
        "print('I \"said\" do not touch this.')"
      ]
    },
    {
      "cell_type": "code",
      "source": [
        "#Latihan belajar 1, ketikkan Hello World!\n",
        "print(\"Hello World!\")"
      ],
      "metadata": {
        "colab": {
          "base_uri": "https://localhost:8080/"
        },
        "id": "TTk7O6mPCSYO",
        "outputId": "6b90b3ed-5171-4a91-d9dc-668207a60088"
      },
      "execution_count": null,
      "outputs": [
        {
          "output_type": "stream",
          "name": "stdout",
          "text": [
            "Hello World!\n"
          ]
        }
      ]
    },
    {
      "cell_type": "code",
      "source": [
        "# Comments anad Pound Characters\n",
        "\n",
        "# A comment, this is so you can read your\n",
        "# Anything after the #is ignored by python\n",
        "print(\"I could have code like this.\") # and the comment after is ignored\n",
        "# You can also use a comment to \"disable\" or comment out code:\n",
        "#print(\"This won't run\")\n",
        "print(\"This will run\")\n",
        "\n",
        "# Octothrope atau karakter pound merupakan suatu simbol yang digunakan untuk memberikan comment ataupun keterangan untuk menjelaskan sesuatu\n",
        "# Tidak terdapat kesalahan\n",
        "# Ketika menggunakan octothrope ketika di run maka tidak memunculkan output karena, octothrope hanya sebagai keterangan."
      ],
      "metadata": {
        "colab": {
          "base_uri": "https://localhost:8080/"
        },
        "id": "GoM6pi2z-Bxe",
        "outputId": "b22975f5-4f4a-4c03-fbe8-77a736009a41"
      },
      "execution_count": null,
      "outputs": [
        {
          "output_type": "stream",
          "name": "stdout",
          "text": [
            "I could have code like this.\n",
            "This will run\n"
          ]
        }
      ]
    },
    {
      "cell_type": "code",
      "source": [
        "#Numbers and Math\n",
        "\n",
        "#Latihan belajar 3, membuat latihan operator matematika\n",
        "print(\"I will now count my clothes:\")\n",
        "# Menghitung dengan operasi matematika dan python dijadikan sebagai kalkulator\n",
        "print(\"Shirts\", 5.0 + 15.0 / 5.0)\n",
        "print(\"Pants\", 15.0 - 25.0 * 2.0 % 6.0)\n",
        "print(\"Now I will count my bags:\")\n",
        "print(3.0 + 2.0 + 1.0 - 5.0 + 4.0 % 4.0 - 4.0 / 4.0 + 6.0)\n",
        "\n",
        "# Menentukan apakah pernyataan matematika yang dibuat benar (True) atau salah (False)\n",
        "print(\"Is it true that 9.0 / 3.0 < 6.0 - 2.0?\")\n",
        "print (9.0 / 3.0  < 6.0 - 2.0)\n",
        "\n",
        "print (\"What is 7.0 + 8.0 ?\", 7.0 + 8.0)\n",
        "print(\"What is 12.0 / 3.0 ?\", 12.0 / 3.0)\n",
        "\n",
        "print(\"Oh, that's why it's False\")\n",
        "print(\"False jika persamaan operasi matematika yang dibuat tidak sesuai dan True jika persamaan sesuai\")\n",
        "\n",
        "# Mencoba persamaan dengan model matematika yang lainnya\n",
        "print(\"How about some more.\")\n",
        "# Menentukan persamaan matematika 17.0 besar dari -8.0 dan persamaan tersebut benar maka outputnya adalah True\n",
        "print(\"17.0 > -8.0, Is it greater?\", 17.0 > -8.0)\n",
        "# Menentukan persamaan matematika 17.0 lebih besar atau sama dari -8.0 dan pernyataan tersebut merupakan lebih besar sehingga outpunya True\n",
        "print(\"17.0 >= -8.0, Is it greater or equal?\", 17.0 >= -8.0)\n",
        "# Menentukan persamaan matematika 17.0 lebih kecil atau sama dari -8.0 dan pernyataan tersebut merupakan lebih besar sehingga outpunya False\n",
        "print(\"17.0 <= -8.0, Is it less or equal?\", 17.0 <= -8.0)\n",
        "\n",
        "# Mencoba membuat operator matematika sederhana\n",
        "print(\"15.0 - 12.3 <= 15 / 5, Is it less or equal?\", 15.0 - 12.3 <= 15 / 5)\n",
        "print(\"15.0 - 12.3 >= 15 / 5, Is it greater or equal?\", 15.0 - 12.3 >= 15 / 5)\n",
        "print(\"15.0 - 12.3 > 15 / 5, Is it greater?\", 15.0 - 12.3 > 15 / 5)\n",
        "print(\"15.0 - 12.3 < 15 / 5, Is it less?\", 15.0 - 12.3 < 15 / 5)"
      ],
      "metadata": {
        "colab": {
          "base_uri": "https://localhost:8080/"
        },
        "id": "jZVJ3AXgAWsX",
        "outputId": "ef90b632-5e33-4d95-ee0d-17cfae8e964a"
      },
      "execution_count": null,
      "outputs": [
        {
          "output_type": "stream",
          "name": "stdout",
          "text": [
            "I will now count my clothes:\n",
            "Shirts 8.0\n",
            "Pants 13.0\n",
            "Now I will count my bags:\n",
            "6.0\n",
            "Is it true that 9.0 / 3.0 < 6.0 - 2.0?\n",
            "True\n",
            "What is 7.0 + 8.0 ? 15.0\n",
            "What is 12.0 / 3.0 ? 4.0\n",
            "Oh, that's why it's False\n",
            "False jika persamaan operasi matematika yang dibuat tidak sesuai dan True jika persamaan sesuai\n",
            "How about some more.\n",
            "17.0 > -8.0, Is it greater? True\n",
            "17.0 >= -8.0, Is it greater or equal? True\n",
            "17.0 <= -8.0, Is it less or equal? False\n",
            "15.0 - 12.3 <= 15 / 5, Is it less or equal? True\n",
            "15.0 - 12.3 >= 15 / 5, Is it greater or equal? False\n",
            "15.0 - 12.3 > 15 / 5, Is it greater? False\n",
            "15.0 - 12.3 < 15 / 5, Is it less? True\n"
          ]
        }
      ]
    },
    {
      "cell_type": "code",
      "source": [
        "# Variables and Names\n",
        "\n",
        "# Menentukan variabel dari suatu pernyataan sebagai berikut:\n",
        "cars = 100\n",
        "# Jika tidak menggunakan definisi variabel space_in_a_car dengan angka floating (hanya angka 4) maka tidak berpengaruh apapun terhadap code yang dibuat karena, angka floating hanya digunakan untuk menghasilkan pernyataan yang lebih akurat dan angka dibelakang adalah 0 sehingga tidak berpengaruh apapun\n",
        "space_in_a_car = 4.0\n",
        "# Tujuan menggunakan = (sama dengan) pada setiap variabel untuk mendefinisikan suatu variabel dalam bentuk angka ataupun sebuah persamaan operasi matematika\n",
        "drivers = 30\n",
        "passengers = 90\n",
        "# pada variabel cars_not_driven mendefinisikan variabelnya sebagai operasi matematika\n",
        "cars_not_driven = cars - drivers\n",
        "# _ atau karakter garis bawah pada latihan belajar 4 ini digunakan sebagai pengganti dari spasi pada suatu kalimat\n",
        "cars_driven = drivers\n",
        "carpool_capacity = cars_driven * space_in_a_car\n",
        "# jika terdapat kesalahan car_poool_capacity tidak didefinisikan artinya tidak terdapat variabel dengan nama seperti itu dan hal tersebut salah penulisan yang seharusnya carpool_capacity\n",
        "average_passengers_per_car = passengers / cars_driven\n",
        "\n",
        "# Membuat pernyataan dengan menggunakan variabel yang telah didefinisikan sebelumnya\n",
        "print(\"There are\", cars, \"cars available.\")\n",
        "print(\"There are only\", drivers, \" drivers available.\")\n",
        "print(\"There will be\", cars_not_driven, \"empty cars available\")\n",
        "print(\"We can transport\", carpool_capacity, \"people today.\")\n",
        "print(\"We have\", passengers, \"to carpool today.\")\n",
        "print(\"We need to put about\", average_passengers_per_car, \"in each car.\")\n",
        "\n",
        "# Latihan belajar 4, membuat python sebagai terminal kalkulator dengan menggunakan variabel i, x, dan j\n",
        "\n",
        "# Definisi variabel yang digunakan:\n",
        "i = 60 / 2\n",
        "x = 8 + 2\n",
        "j = i / x\n",
        "\n",
        "# Pernyataan menggunakan variabel yang telah didefinisikan sebelumnya\n",
        "print(\"Terdapat\", i, \"pohon di ITERA\")\n",
        "print(\"Terdapat\", x, \"bendera di depan gedung A\")\n",
        "print(\"Terdapat\", j, \"penjaga keamanan di labtek 2\")"
      ],
      "metadata": {
        "colab": {
          "base_uri": "https://localhost:8080/"
        },
        "id": "Lkl9af6BDbji",
        "outputId": "d09603b0-8199-426d-ea95-32623ca15ea9"
      },
      "execution_count": null,
      "outputs": [
        {
          "output_type": "stream",
          "name": "stdout",
          "text": [
            "There are 100 cars available.\n",
            "There are only 30  drivers available.\n",
            "There will be 70 empty cars available\n",
            "We can transport 120.0 people today.\n",
            "We have 90 to carpool today.\n",
            "We need to put about 3.0 in each car.\n",
            "Terdapat 30.0 pohon di ITERA\n",
            "Terdapat 10 bendera di depan gedung A\n",
            "Terdapat 3.0 penjaga keamanan di labtek 2\n"
          ]
        }
      ]
    },
    {
      "cell_type": "code",
      "source": [
        "# More Variables and Printing\n",
        "\n",
        "name = 'Zed A. Shaw'\n",
        "age = 35 #not a lie\n",
        "# Variabel yang merubah inch ke cm adalah heigt dengan mengalikan 2.54\n",
        "height = 74 # inches\n",
        "heighttocm = height*2.54\n",
        "# Variabel yang merubah lbs ke kg adalah weight dengan mengalikan 0.453592\n",
        "weight = 180 # lbs\n",
        "weighttokg = weight*0.453592\n",
        "\n",
        "eyes = 'Blue'\n",
        "teeth = 'White'\n",
        "hair = 'Brown'\n",
        "\n",
        "print(f\"let's talk about {name}.\")\n",
        "print(f\"He's {height} inches tall.\")\n",
        "print(f\"He's {weight} pounds heavy.\")\n",
        "print(\"Actually that's not too heavy.\")\n",
        "print(f\"He's got {eyes} eyes and {hair} hair.\")\n",
        "print(f\"His teeth are usually {teeth} depending on the coffe.\")\n",
        "\n",
        "#This line is tricky, try to get it exactly right\n",
        "total = age + heighttocm+ weighttokg\n",
        "print(f\"if I add {age}, {heighttocm}, and {weighttokg} i get {total}.\")"
      ],
      "metadata": {
        "colab": {
          "base_uri": "https://localhost:8080/"
        },
        "id": "92W3YyvsvZwy",
        "outputId": "b952f8aa-e849-43a8-d427-516faa102b25"
      },
      "execution_count": null,
      "outputs": [
        {
          "output_type": "stream",
          "name": "stdout",
          "text": [
            "let's talk about Zed A. Shaw.\n",
            "He's 74 inches tall.\n",
            "He's 180 pounds heavy.\n",
            "Actually that's not too heavy.\n",
            "He's got Blue eyes and Brown hair.\n",
            "His teeth are usually White depending on the coffe.\n",
            "if I add 35, 187.96, and 81.64656 i get 304.60656.\n"
          ]
        }
      ]
    },
    {
      "cell_type": "code",
      "source": [
        "# Strings and Text\n",
        "\n",
        "# Mendefinisikan variabel\n",
        "types_of_people = 10\n",
        "# Menggunakan format string untuk memudahkan dalam proses pendefinisian dalam sebuah kalimat yang didefinisikan sebagai x\n",
        "x = f\"There are {types_of_people} types of people.\"\n",
        "\n",
        "# Mendefinisikan string\n",
        "binary = \"binary\"\n",
        "do_not = \"don't\"\n",
        "# Menggunakan format string untuk memudahkan dalam proses pendefinisian dalam sebuah kalimat yang didefinisikan sebagai y\n",
        "# Pada y terdapat 2 tempat string dimasukkan dalam string karena, terdapat string binary dan do_not yang sebelumnya sudah didefinisikan sebagai string juga\n",
        "y = f\"Those who know {binary} and those who {do_not}.\"\n",
        "\n",
        "# Menginputkan variabel x dan y\n",
        "print(x)\n",
        "print(y)\n",
        "\n",
        "# Menggunakan format string untuk memudahkan dalam proses pendefinisian dalam sebuah kalimat dan dapat dilakukan sting dalam string\n",
        "# Kedua baris dibawah ini merupakan tempat dimana string dimasukkan ke dalam string karena, pada kedua baris dibawah ini sudah terdapat string x dan y\n",
        "#sedangkan, variabel x dan y merupakan string juga yang telah dedefinisikan sebelumnya.\n",
        "print(f\"I said: {x}\")\n",
        "print(f\"I also said: '{y}'\")\n",
        "\n",
        "hilarious = False\n",
        "\n",
        "joke_evaluation = \"Isn't that joke so funny?! {}\"\n",
        "print(joke_evaluation.format(hilarious))\n",
        "\n",
        "w =\"This is the left side of...\"\n",
        "e = \" a string with a right side.\"\n",
        "# Menambah 2 string dapat membuat string terlihat lebih panjang karena, dengan menambahkan keduanya dapat membuat dengan menambahkan nilai pada kedua sisi dan ketika di print akan menjadi satu.\n",
        "print(w + e)\n",
        "\n",
        "# Terdapat 4 tempat string dimasukkan ke dalam string yaitu terdapat 2 pada y dan 2 lagi pada print i said dan print i also said\n",
        "# Cara mengetahui hanya terdapat 4 tempat dengan melihat ciri string menggunakan tanda petik 2 dan string dimasukkan ke dalam string jika terjadi 2 kali kejadian"
      ],
      "metadata": {
        "colab": {
          "base_uri": "https://localhost:8080/"
        },
        "id": "bgj8731s2_zt",
        "outputId": "74b250d7-70a6-4da8-9cf8-60d8856ca073"
      },
      "execution_count": null,
      "outputs": [
        {
          "output_type": "stream",
          "name": "stdout",
          "text": [
            "There are 10 types of people.\n",
            "Those who know binary and those who don't.\n",
            "I said: There are 10 types of people.\n",
            "I also said: 'Those who know binary and those who don't.'\n",
            "Isn't that joke so funny?! False\n",
            "This is the left side of... a string with a right side.\n"
          ]
        }
      ]
    },
    {
      "cell_type": "code",
      "source": [
        "# What Was That?\n",
        "\n",
        "# Pada ketiga baris dibawah ini menggunakan \\ atau backslash yang digunakan untuk menghasilkan outup yang berbaris-baris namun hanya membuat baris kode secara mendatar\n",
        "# Menggunakan Escape Sequence karena, bertemu dengan tanda kutip tunggal dalam string sehingga, terdapat tanda kutip tunggal dan tanda kutip 2\n",
        "tabby_cat = \"\\tI'm tabbed in.\"\n",
        "persian_cat = \"I'm split\\non a line.\"\n",
        "backslash_cat = \"I'm \\\\ a \\\\ cat.\"\n",
        "\n",
        "# Menggunakan format escape dengan diawali dan diakhiri oleh simbol \"\"\"\n",
        "fat_cat=\"\"\"\n",
        "I'll do a list:\n",
        "# Menggunakan karakter escape tab untuk mewakili spasi putih agar output terlihat lebih ke dalam format penulisannya\n",
        "\\t* Cat food\n",
        "\\t* Fishies\n",
        "\\t* Catnip\n",
        "\\t* Grass\n",
        "\"\"\"\n",
        "# menginputkan print agar menghasilkan output penulisan ketika di run\n",
        "print(tabby_cat)\n",
        "print(persian_cat)\n",
        "print(backslash_cat)\n",
        "print(fat_cat)"
      ],
      "metadata": {
        "colab": {
          "base_uri": "https://localhost:8080/"
        },
        "id": "Aah_BvfKK61j",
        "outputId": "8492ae67-2e1c-4a6f-ac6a-73dd3708c019"
      },
      "execution_count": null,
      "outputs": [
        {
          "output_type": "stream",
          "name": "stdout",
          "text": [
            "\tI'm tabbed in.\n",
            "I'm split\n",
            "on a line.\n",
            "I'm \\ a \\ cat.\n",
            "\n",
            "I'll do a list:\n",
            "# Menggunakan karakter escape tab untuk mewakili spasi putih agar output terlihat lebih ke dalam format penulisannya\n",
            "\t* Cat food\n",
            "\t* Fishies\n",
            "\t* Catnip\n",
            "\t* Grass\n",
            "\n"
          ]
        }
      ]
    }
  ]
}