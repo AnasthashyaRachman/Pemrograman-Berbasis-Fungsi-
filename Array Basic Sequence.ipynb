{
  "nbformat": 4,
  "nbformat_minor": 0,
  "metadata": {
    "colab": {
      "provenance": []
    },
    "kernelspec": {
      "name": "python3",
      "display_name": "Python 3"
    },
    "language_info": {
      "name": "python"
    }
  },
  "cells": [
    {
      "cell_type": "markdown",
      "source": [
        "##### 1. Lengkapi tabel berikut ini!"
      ],
      "metadata": {
        "id": "N7jKBE7F6_dY"
      }
    },
    {
      "cell_type": "markdown",
      "source": [
        "| Sequence Type | Mutability | Access by Index | Duplicate Element | Change Element | Add / Remove Element |\n",
        "| ------------- | ---------- | --------------- | ----------------- | -------------- | -------------------- |\n",
        "| List          |      True      |       true          |      true             |           true    |      true                |\n",
        "| Tuple         |     false       |   true              |  true                 |            false    |         true             |\n",
        "| Set           |       false     |       true          |        false           |      false          |      true                |\n",
        "| Dictionary    |      true      |      false           |   false                |      true          |             true         |"
      ],
      "metadata": {
        "id": "SQSru6HE6sHC"
      }
    },
    {
      "cell_type": "markdown",
      "source": [
        "##### 2. Terdapat data sebagai berikut: data: 1,2,1,2,3,10,11,5,6,19,20,30,50,50,50,20,9,4,5,12,11,11,30,50,90,80,80 dengan mengimplementasi sequence type , buatlah program untuk:"
      ],
      "metadata": {
        "id": "-zl3fJDY3Ic6"
      }
    },
    {
      "cell_type": "markdown",
      "source": [
        "##### a. Menghitung rata rata dari data tersebut\n",
        "\n"
      ],
      "metadata": {
        "id": "RgXCZRMb3fvi"
      }
    },
    {
      "cell_type": "code",
      "source": [
        "data = [1,2,1,2,3,10,11,5,6,19,20,30,50,50,50,20,9,4,5,12,11,11,30,50,90,80,80]\n",
        "data.sort()\n",
        "print(data)\n",
        "total = sum(data)/len(data)\n",
        "print(total)\n",
        ""
      ],
      "metadata": {
        "id": "SKm6HylR3hQO"
      },
      "execution_count": null,
      "outputs": []
    },
    {
      "cell_type": "markdown",
      "source": [
        "##### b. Mencari apa saja nilai unik yang dari data tersebut"
      ],
      "metadata": {
        "id": "T5i6a_W53mAQ"
      }
    },
    {
      "cell_type": "code",
      "source": [
        "data = [1,2,1,2,3,10,11,5,6,19,20,30,50,50,50,20,9,4,5,12,11,11,30,50,90,80,80]\n",
        "data.sort()\n",
        "print('data',data)\n",
        "def get_unique(data):\n",
        "  unique_data = []\n",
        "  for ls in data :\n",
        "    if not (ls in unique_data):\n",
        "      unique_data.append(ls)\n",
        "  return unique_data\n",
        "\n",
        "unique_data = get_unique(data)\n",
        "print('unique_data',unique_data)"
      ],
      "metadata": {
        "id": "2FGTXIz83rdq"
      },
      "execution_count": null,
      "outputs": []
    },
    {
      "cell_type": "markdown",
      "source": [
        "##### c. Menghitung frekuensi kemunculan dari setiap elemen unik tersebut"
      ],
      "metadata": {
        "id": "dY7LwQ3q390C"
      }
    },
    {
      "cell_type": "code",
      "source": [
        "data = [1,2,1,2,3,10,11,5,6,19,20,30,50,50,50,20,9,4,5,12,11,11,30,50,90,80,80]\n",
        "data.sort()\n",
        "print('data',data)\n",
        "print(\"Banyak frekuensi dari setiap elemen unik adalah sebagai berikut : \")\n",
        "count={}\n",
        "for i in data :\n",
        "  if i in count :\n",
        "    count[i]+=1\n",
        "  else :\n",
        "    count[i]=1\n",
        "for key,value in count.items():\n",
        "  print(key,\"=\",value)"
      ],
      "metadata": {
        "id": "_YghWJo-4A3F"
      },
      "execution_count": null,
      "outputs": []
    },
    {
      "cell_type": "markdown",
      "source": [
        "##### 3.Terdapat tabel grade mahasiswa sebagai berikut:"
      ],
      "metadata": {
        "id": "rTfCcjw24RaF"
      }
    },
    {
      "cell_type": "markdown",
      "source": [
        "##### a. Jelaskan sequence type apa yang cocok digunakan untuk mengolah data tersebut!"
      ],
      "metadata": {
        "id": "BFCrO6i64guN"
      }
    },
    {
      "cell_type": "code",
      "source": [
        "mhs1 = [1301142289, \"ISA\", \"A\", \"A\", \"A\", \"A\", \"A\"]\n",
        "mhs2 = [1301140389,\t\"LIA\", \"C\",\t\"A\",\t\"B\", \"A\",\t\"AB\"]\n",
        "mhs3 = [1301142099,\t\"NAMDY\", \"B\",\t\"B\", \"BC\", \"AB\", \"D\"]\n",
        "mhs4 = [1301142091,\t\"SANDI\", \"B\",\t\"C\", \"D\",\t\"A\", \"A\"]"
      ],
      "metadata": {
        "id": "_mPqmYWv43Tj"
      },
      "execution_count": null,
      "outputs": []
    },
    {
      "cell_type": "markdown",
      "source": [
        "##### b. Buatlah program untuk menghitung ipk dari setiap mahasiswa pada tabel tersebut!"
      ],
      "metadata": {
        "id": "mfv1t9od5Nfq"
      }
    },
    {
      "cell_type": "code",
      "source": [
        "def convert_indeks(i):\n",
        "    nilai = 0\n",
        "    if i == \"A\" :\n",
        "      nilai = 4.0\n",
        "    elif i == \"AB\" :\n",
        "      nilai =  3.5\n",
        "    elif i == \"B\" :\n",
        "      nilai = 3.0\n",
        "    elif i == \"BC\" :\n",
        "      nilai =  2.5\n",
        "    elif i == \"C\" :\n",
        "      nilai = 2.0\n",
        "    elif i == \"CD\" :\n",
        "      nilai = 1.5\n",
        "    else :\n",
        "      nilai = 1.0\n",
        "    return nilai\n",
        "\n",
        "def IPK(li):\n",
        "  seq_indeks = li[2:]\n",
        "  total =0\n",
        "  for i in seq_indeks:\n",
        "    total = total + convert_indeks(i)\n",
        "  rerata = total / len(seq_indeks)\n",
        "  return print(rerata)\n",
        "\n",
        "grade_mhs1 = IPK(mhs1)\n",
        "grade_mhs2 = IPK(mhs2)\n",
        "grade_mhs3 = IPK(mhs3)\n",
        "grade_mhs4 = IPK(mhs4)"
      ],
      "metadata": {
        "id": "TJQ_SZcW5WEv"
      },
      "execution_count": null,
      "outputs": []
    },
    {
      "cell_type": "markdown",
      "source": [
        "##### 4.The Anagram Problem"
      ],
      "metadata": {
        "id": "ExOO8CoP5wYJ"
      }
    },
    {
      "cell_type": "markdown",
      "source": [
        "Original Text: 'Institut Teknologi Sumatera'\n",
        "\n",
        "Result Text: EAIGLKNMROTSU\n",
        "\n",
        "Buatlah program untuk mengubah sebuah string menjadi string lain dengan rule sebagai berikut:\n",
        "\n",
        "Hasil result string seluruhnya adalah capital.\n",
        "Tidak ada huruf yang duplikat dalam string result.\n",
        "Posisi character si string baru terurut secara ascending, namun index genap dan ganjil di tukar dalam pair. Contoh: AEJK menjadi EAKJ."
      ],
      "metadata": {
        "id": "sz8yaIl655sX"
      }
    },
    {
      "cell_type": "code",
      "source": [
        "original_text = 'Institut Teknologi Sumatera'\n",
        "upper_text = original_text.upper()\n",
        "unik = list(set(upper_text))\n",
        "unik.remove(' ')\n",
        "unik.sort()\n",
        "\n",
        "def solve(unik):\n",
        "    length = len(unik)\n",
        "    for i in range(0,length,4):\n",
        "        if(i+1<length):\n",
        "            unik[i], unik[i+1] = unik[i+1], unik[i]\n",
        "        if(i+2<length):\n",
        "            unik[i+2], unik[i+3] = unik[i+3], unik[i+2]\n",
        "    return unik\n",
        "\n",
        "result_text = solve(unik)\n",
        "print(result_text)\n",
        "print(''.join(result_text))"
      ],
      "metadata": {
        "colab": {
          "base_uri": "https://localhost:8080/"
        },
        "id": "qfpJNs7J5_Uz",
        "outputId": "0c981776-af2b-4245-d4b2-7931e86c7536"
      },
      "execution_count": null,
      "outputs": [
        {
          "output_type": "stream",
          "name": "stdout",
          "text": [
            "['E', 'A', 'I', 'G', 'L', 'K', 'N', 'M', 'R', 'O', 'T', 'S', 'U']\n",
            "EAIGLKNMROTSU\n"
          ]
        }
      ]
    }
  ]
}